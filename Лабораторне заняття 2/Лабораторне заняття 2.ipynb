{
 "cells": [
  {
   "cell_type": "markdown",
   "metadata": {},
   "source": [
    "# Лабораторне заняття №2\n",
    "Знайомство з бібліотекою **NumPy**."
   ]
  },
  {
   "cell_type": "code",
   "execution_count": 1,
   "metadata": {
    "collapsed": true
   },
   "outputs": [],
   "source": [
    "import numpy as np"
   ]
  },
  {
   "cell_type": "markdown",
   "metadata": {},
   "source": [
    "## 1 Огляд функцій випадкового вибору"
   ]
  },
  {
   "cell_type": "markdown",
   "metadata": {},
   "source": [
    "### 1.1 Функція *choice*\n",
    "Для детальної інформації див. [документацію](https://docs.scipy.org/doc/numpy-1.14.1/reference/generated/numpy.random.choice.html)."
   ]
  },
  {
   "cell_type": "code",
   "execution_count": 2,
   "metadata": {},
   "outputs": [
    {
     "name": "stdout",
     "output_type": "stream",
     "text": [
      "['2' 'bottom' 'top' '4.5' 'top' '4.5' '2' 'top' 'top' 'top']\n"
     ]
    }
   ],
   "source": [
    "a = [\"top\", 2, \"bottom\", 4.5]\n",
    "size = 10\n",
    "probs = [0.4, 0.2, 0.1, 0.3]\n",
    "replace = True\n",
    "print(np.random.choice(a, size=size, replace=replace, p=probs))"
   ]
  },
  {
   "cell_type": "markdown",
   "metadata": {},
   "source": [
    "Згенеруйте одну випадкову цифру, вважаючи їх рівноймовірними."
   ]
  },
  {
   "cell_type": "code",
   "execution_count": 3,
   "metadata": {
    "collapsed": true
   },
   "outputs": [],
   "source": [
    "# Місце для Вашого коду\n",
    "\n"
   ]
  },
  {
   "cell_type": "markdown",
   "metadata": {},
   "source": [
    "Згенеруйте випадкову матрицю $4 \\times 6$ із рівноймовірних цифр."
   ]
  },
  {
   "cell_type": "code",
   "execution_count": 4,
   "metadata": {
    "collapsed": true
   },
   "outputs": [],
   "source": [
    "# Місце для Вашого коду\n",
    "\n"
   ]
  },
  {
   "cell_type": "markdown",
   "metadata": {},
   "source": [
    "### 1.2 Функція *randint*\n",
    "Для детальної інформації див. [документацію](https://docs.scipy.org/doc/numpy-1.14.1/reference/generated/numpy.random.randint.html)."
   ]
  },
  {
   "cell_type": "code",
   "execution_count": 5,
   "metadata": {},
   "outputs": [
    {
     "name": "stdout",
     "output_type": "stream",
     "text": [
      "[3 1 4 2 1 4 1 1 0 4]\n"
     ]
    }
   ],
   "source": [
    "low = 0\n",
    "high = 5\n",
    "size = 10\n",
    "print(np.random.randint(low=low, high=high, size=size))"
   ]
  },
  {
   "cell_type": "markdown",
   "metadata": {},
   "source": [
    "Згенеруйте одну випадкову цифру."
   ]
  },
  {
   "cell_type": "code",
   "execution_count": 6,
   "metadata": {
    "collapsed": true
   },
   "outputs": [],
   "source": [
    "# Місце для Вашого коду\n",
    "\n"
   ]
  },
  {
   "cell_type": "markdown",
   "metadata": {},
   "source": [
    "Згенеруйте випадкову матрицю $4 \\times 5$ із двоцифрових чисел."
   ]
  },
  {
   "cell_type": "code",
   "execution_count": 7,
   "metadata": {
    "collapsed": true
   },
   "outputs": [],
   "source": [
    "# Місце для Вашого коду\n",
    "\n"
   ]
  },
  {
   "cell_type": "markdown",
   "metadata": {},
   "source": [
    "### 1.3 Функція *sample*\n",
    "Для детальної інформації див. [документацію](https://docs.scipy.org/doc/numpy-1.14.1/reference/generated/numpy.random.sample.html)."
   ]
  },
  {
   "cell_type": "code",
   "execution_count": 8,
   "metadata": {},
   "outputs": [
    {
     "name": "stdout",
     "output_type": "stream",
     "text": [
      "0.3369603119037976\n"
     ]
    }
   ],
   "source": [
    "size = None\n",
    "print(np.random.sample(size=size))"
   ]
  },
  {
   "cell_type": "markdown",
   "metadata": {},
   "source": [
    "Згенеруйте випадкову матрицю $3 \\times 4$ із чисел з інтервалу $[0, 1)$."
   ]
  },
  {
   "cell_type": "code",
   "execution_count": 9,
   "metadata": {
    "collapsed": true
   },
   "outputs": [],
   "source": [
    "# Місце для Вашого коду\n",
    "\n"
   ]
  },
  {
   "cell_type": "markdown",
   "metadata": {},
   "source": [
    "Згенеруйте 10 випадкових чисел з інтервалу $[a, b)$."
   ]
  },
  {
   "cell_type": "code",
   "execution_count": 10,
   "metadata": {
    "collapsed": true
   },
   "outputs": [],
   "source": [
    "a = 3\n",
    "b = 5"
   ]
  },
  {
   "cell_type": "code",
   "execution_count": 11,
   "metadata": {
    "collapsed": true
   },
   "outputs": [],
   "source": [
    "# Місце для Вашого коду\n",
    "\n"
   ]
  },
  {
   "cell_type": "markdown",
   "metadata": {},
   "source": [
    "### 1.4 Функція *shuffle*\n",
    "Для детальної інформації див. [документацію](https://docs.scipy.org/doc/numpy-1.14.1/reference/generated/numpy.random.shuffle.html)."
   ]
  },
  {
   "cell_type": "code",
   "execution_count": 12,
   "metadata": {},
   "outputs": [
    {
     "name": "stdout",
     "output_type": "stream",
     "text": [
      "[9 5 3 7 8 1 0 2 6 4]\n"
     ]
    }
   ],
   "source": [
    "x = np.arange(10)\n",
    "np.random.shuffle(x)\n",
    "print(x)"
   ]
  },
  {
   "cell_type": "markdown",
   "metadata": {},
   "source": [
    "Перетасуйте матрицю $M$."
   ]
  },
  {
   "cell_type": "code",
   "execution_count": 13,
   "metadata": {},
   "outputs": [
    {
     "name": "stdout",
     "output_type": "stream",
     "text": [
      "[[ 0  1  2  3  4]\n",
      " [ 5  6  7  8  9]\n",
      " [10 11 12 13 14]\n",
      " [15 16 17 18 19]]\n"
     ]
    }
   ],
   "source": [
    "M = np.arange(20).reshape((4, 5))\n",
    "print(M)"
   ]
  },
  {
   "cell_type": "code",
   "execution_count": 14,
   "metadata": {
    "collapsed": true
   },
   "outputs": [],
   "source": [
    "# Місце для Вашого коду\n",
    "\n"
   ]
  },
  {
   "cell_type": "markdown",
   "metadata": {},
   "source": [
    "## 2 Відтворюваність результатів\n",
    "Можна задати початкове значення для генератора. Це зафіксує \"випадкову\" послідовність."
   ]
  },
  {
   "cell_type": "code",
   "execution_count": 15,
   "metadata": {
    "collapsed": true
   },
   "outputs": [],
   "source": [
    "np.random.seed(42)"
   ]
  },
  {
   "cell_type": "code",
   "execution_count": 16,
   "metadata": {},
   "outputs": [
    {
     "name": "stdout",
     "output_type": "stream",
     "text": [
      "6\n"
     ]
    }
   ],
   "source": [
    "print(np.random.randint(10))"
   ]
  },
  {
   "cell_type": "code",
   "execution_count": 17,
   "metadata": {},
   "outputs": [
    {
     "name": "stdout",
     "output_type": "stream",
     "text": [
      "3\n"
     ]
    }
   ],
   "source": [
    "print(np.random.randint(10))"
   ]
  },
  {
   "cell_type": "code",
   "execution_count": 18,
   "metadata": {},
   "outputs": [
    {
     "name": "stdout",
     "output_type": "stream",
     "text": [
      "6\n",
      "3\n"
     ]
    }
   ],
   "source": [
    "np.random.seed(42)\n",
    "print(np.random.randint(10))\n",
    "print(np.random.randint(10))"
   ]
  },
  {
   "cell_type": "code",
   "execution_count": 19,
   "metadata": {},
   "outputs": [
    {
     "name": "stdout",
     "output_type": "stream",
     "text": [
      "[6 3 7 4 6 9 2 6 7 4]\n",
      "['l' 'l' 'l' 'b' 'r' 't' 'r' 'l' 'l' 'r']\n",
      "[6 3 7 4 6 9 2 6 7 4]\n",
      "['l' 'l' 'l' 'b' 'r' 't' 'r' 'l' 'l' 'r']\n"
     ]
    }
   ],
   "source": [
    "np.random.seed(42)\n",
    "print(np.random.randint(10, size=10))\n",
    "print(np.random.choice(['t', 'r', 'b', 'l'], size=10))\n",
    "np.random.seed(42)\n",
    "print(np.random.randint(10, size=10))\n",
    "print(np.random.choice(['t', 'r', 'b', 'l'], size=10))"
   ]
  },
  {
   "cell_type": "markdown",
   "metadata": {},
   "source": [
    "## 3 Монетка"
   ]
  },
  {
   "cell_type": "markdown",
   "metadata": {},
   "source": [
    "### 3.1 За допомогою функції *choice*"
   ]
  },
  {
   "cell_type": "code",
   "execution_count": 22,
   "metadata": {},
   "outputs": [
    {
     "name": "stdout",
     "output_type": "stream",
     "text": [
      "['H' 'H' 'T' 'H' 'T' 'T' 'H' 'T' 'H' 'H']\n"
     ]
    }
   ],
   "source": [
    "p=0.5\n",
    "n=10\n",
    "tosses=np.random.choice([\"H\",\"T\"],p=[p,1-p], size=n)\n",
    "print(tosses)"
   ]
  },
  {
   "cell_type": "code",
   "execution_count": 23,
   "metadata": {},
   "outputs": [
    {
     "name": "stdout",
     "output_type": "stream",
     "text": [
      "6 heads and 4 tails\n"
     ]
    }
   ],
   "source": [
    "heads = list(tosses).count(\"H\")\n",
    "tails = list(tosses).count(\"T\")\n",
    "\n",
    "print(\"{} heads and {} tails\".format(heads,tails))"
   ]
  },
  {
   "cell_type": "markdown",
   "metadata": {},
   "source": [
    "Просимулюйте $100$ підкидань монетки та підрахуйте кількість кожної із сторін."
   ]
  },
  {
   "cell_type": "code",
   "execution_count": 24,
   "metadata": {
    "collapsed": true
   },
   "outputs": [],
   "source": [
    "# Місце для Вашого коду\n",
    "\n"
   ]
  },
  {
   "cell_type": "markdown",
   "metadata": {},
   "source": [
    "### 3.2 За допомогою функції *randint*\n",
    "Реалізуйте симуляцію підкидань монетки за допомогою функції **randint**. Просимулюйте $100$ підкидань монетки та підрахуйте кількість кожної із сторін."
   ]
  },
  {
   "cell_type": "code",
   "execution_count": 25,
   "metadata": {
    "collapsed": true
   },
   "outputs": [],
   "source": [
    "# Місце для Вашого коду\n",
    "\n"
   ]
  },
  {
   "cell_type": "markdown",
   "metadata": {},
   "source": [
    "### 3.3 За допомогою функції *sample*\n",
    "Реалізуйте симуляцію підкидань монетки за допомогою функції **sample**. Просимулюйте $100$ підкидань монетки та підрахуйте кількість кожної із сторін."
   ]
  },
  {
   "cell_type": "code",
   "execution_count": 26,
   "metadata": {
    "collapsed": true
   },
   "outputs": [],
   "source": [
    "# Місце для Вашого коду\n",
    "\n"
   ]
  },
  {
   "cell_type": "markdown",
   "metadata": {},
   "source": [
    "### 3.4 Задача\n",
    "Знайдіть емпіричну ймовірність герба у симуляціях підкидання монетки $n = 10, 50, 100, 250, 500, 1000, 2500, 5000, 10000$ разів."
   ]
  },
  {
   "cell_type": "code",
   "execution_count": 27,
   "metadata": {
    "collapsed": true
   },
   "outputs": [],
   "source": [
    "# Місце для Вашого коду\n",
    "\n"
   ]
  },
  {
   "cell_type": "markdown",
   "metadata": {},
   "source": [
    "## 4 Гральний кубик\n",
    "### 4.1 Реалізація симуляцій\n",
    "Реалізуйте симуляцію кидків грального кубика за допомогою функції **???**. Просимулюйте $60$ кидків кубика та підрахуйте кількість кожної із сторін."
   ]
  },
  {
   "cell_type": "code",
   "execution_count": 28,
   "metadata": {
    "collapsed": true
   },
   "outputs": [],
   "source": [
    "# Місце для Вашого коду\n",
    "\n"
   ]
  },
  {
   "cell_type": "markdown",
   "metadata": {},
   "source": [
    "### 4.2 Задача\n",
    "Знайдіть емпіричну ймовірність кожної сторони у симуляціях кидання грального кубика $n = 10, 50, 100, 250, 500, 1000, 2500, 5000, 10000$ разів."
   ]
  },
  {
   "cell_type": "code",
   "execution_count": 29,
   "metadata": {
    "collapsed": true
   },
   "outputs": [],
   "source": [
    "# Місце для Вашого коду\n",
    "\n"
   ]
  },
  {
   "cell_type": "markdown",
   "metadata": {},
   "source": [
    "## 5 Колода карт\n",
    "### 5.1 Реалізація"
   ]
  },
  {
   "cell_type": "code",
   "execution_count": 30,
   "metadata": {},
   "outputs": [
    {
     "name": "stdout",
     "output_type": "stream",
     "text": [
      "[('3', '♣'), ('3', '♠'), ('3', '♡'), ('3', '♢'), ('7', '♣'), ('7', '♠'), ('7', '♡'), ('7', '♢'), ('9', '♣'), ('9', '♠'), ('9', '♡'), ('9', '♢'), ('5', '♣'), ('5', '♠'), ('5', '♡'), ('5', '♢'), ('6', '♣'), ('6', '♠'), ('6', '♡'), ('6', '♢'), ('J', '♣'), ('J', '♠'), ('J', '♡'), ('J', '♢'), ('4', '♣'), ('4', '♠'), ('4', '♡'), ('4', '♢'), ('Q', '♣'), ('Q', '♠'), ('Q', '♡'), ('Q', '♢'), ('8', '♣'), ('8', '♠'), ('8', '♡'), ('8', '♢'), ('10', '♣'), ('10', '♠'), ('10', '♡'), ('10', '♢'), ('1', '♣'), ('1', '♠'), ('1', '♡'), ('1', '♢'), ('2', '♣'), ('2', '♠'), ('2', '♡'), ('2', '♢'), ('K', '♣'), ('K', '♠'), ('K', '♡'), ('K', '♢')]\n"
     ]
    }
   ],
   "source": [
    "# Визначимо номінали, масті та карти\n",
    "Ranks = {'1', '2', '3', '4', '5', '6', '7', '8', '9', '10', 'J', 'Q', 'K'}\n",
    "Suits = {'♢', '♠', '♣', '♡'}\n",
    "# Створимо колоду карт\n",
    "Cards = [(Rank, Suit) for Rank in Ranks for Suit in Suits]\n",
    "print(Cards)"
   ]
  },
  {
   "cell_type": "code",
   "execution_count": 31,
   "metadata": {},
   "outputs": [
    {
     "name": "stdout",
     "output_type": "stream",
     "text": [
      "3♣, 3♠, 3♡, 3♢, 7♣, 7♠, 7♡, 7♢, 9♣, 9♠, 9♡, 9♢, 5♣, 5♠, 5♡, 5♢, 6♣, 6♠, 6♡, 6♢, J♣, J♠, J♡, J♢, 4♣, 4♠, 4♡, 4♢, Q♣, Q♠, Q♡, Q♢, 8♣, 8♠, 8♡, 8♢, 10♣, 10♠, 10♡, 10♢, 1♣, 1♠, 1♡, 1♢, 2♣, 2♠, 2♡, 2♢, K♣, K♠, K♡, K♢\n"
     ]
    }
   ],
   "source": [
    "# Інший вівід результату\n",
    "print(', '.join([(card[0] + card[1]) for card in Cards]))"
   ]
  },
  {
   "cell_type": "code",
   "execution_count": 32,
   "metadata": {},
   "outputs": [
    {
     "name": "stdout",
     "output_type": "stream",
     "text": [
      "♣3, ♣7, ♣9, ♣5, ♣6, ♣J, ♣4, ♣Q, ♣8, ♣10, ♣1, ♣2, ♣K\n",
      "♠3, ♠7, ♠9, ♠5, ♠6, ♠J, ♠4, ♠Q, ♠8, ♠10, ♠1, ♠2, ♠K\n",
      "♡3, ♡7, ♡9, ♡5, ♡6, ♡J, ♡4, ♡Q, ♡8, ♡10, ♡1, ♡2, ♡K\n",
      "♢3, ♢7, ♢9, ♢5, ♢6, ♢J, ♢4, ♢Q, ♢8, ♢10, ♢1, ♢2, ♢K\n"
     ]
    }
   ],
   "source": [
    "# Або згрупувавши по мастях\n",
    "for suit in Suits:\n",
    "    print(\", \".join([(suit+rank) for rank in Ranks]))"
   ]
  },
  {
   "cell_type": "code",
   "execution_count": 33,
   "metadata": {},
   "outputs": [
    {
     "name": "stdout",
     "output_type": "stream",
     "text": [
      "[('Q', '♠'), ('10', '♡'), ('3', '♡'), ('2', '♠'), ('2', '♣'), ('10', '♢'), ('J', '♡'), ('1', '♢'), ('9', '♡'), ('3', '♣'), ('6', '♡'), ('Q', '♡'), ('K', '♣'), ('8', '♠'), ('J', '♠'), ('7', '♣'), ('K', '♡'), ('8', '♣'), ('5', '♣'), ('Q', '♢'), ('J', '♣'), ('J', '♢'), ('4', '♡'), ('1', '♡'), ('5', '♡'), ('5', '♢'), ('1', '♣'), ('1', '♠'), ('9', '♠'), ('10', '♣'), ('9', '♢'), ('2', '♢'), ('6', '♠'), ('Q', '♣'), ('10', '♠'), ('7', '♠'), ('2', '♡'), ('K', '♢'), ('8', '♢'), ('6', '♣'), ('K', '♠'), ('8', '♡'), ('7', '♢'), ('7', '♡'), ('4', '♢'), ('6', '♢'), ('3', '♠'), ('4', '♠'), ('9', '♣'), ('5', '♠'), ('4', '♣'), ('3', '♢')]\n"
     ]
    }
   ],
   "source": [
    "# Перемішаємо колоду\n",
    "np.random.shuffle(Cards)\n",
    "\n",
    "print(Cards)"
   ]
  },
  {
   "cell_type": "markdown",
   "metadata": {},
   "source": [
    "### 5.2 Задача\n",
    "Знайдіть емпіричну ймовірність карти парного числа (2, 4, 6, 8, 10) у симуляціях вибору однієї карти з колоди 52 карт $n = 10, 50, 100, 250, 500, 1000, 2500, 5000, 10000$ разів."
   ]
  },
  {
   "cell_type": "code",
   "execution_count": 34,
   "metadata": {
    "collapsed": true
   },
   "outputs": [],
   "source": [
    "# Місце для Вашого коду\n",
    "\n"
   ]
  },
  {
   "cell_type": "markdown",
   "metadata": {},
   "source": [
    "### 5.3 Задача\n",
    "Випадковим чином роздайте колоду з 52 карт чотирьом гравцям (кожному по 13 карт) так, щоб кожен з них мав 4 карти однієї масті та по 3 карти інших мастей. Наприклад, {♣5, ♣10, ♣8, ♣4, ♠4, ♠J, ♠3, ♢Q, ♢7, ♢K, ♡9, ♡1, ♡5}."
   ]
  },
  {
   "cell_type": "code",
   "execution_count": 35,
   "metadata": {
    "collapsed": true
   },
   "outputs": [],
   "source": [
    "# Місце для Вашого коду\n",
    "\n"
   ]
  },
  {
   "cell_type": "markdown",
   "metadata": {},
   "source": [
    "### 5.4 Задача\n",
    "Випадковим чином роздайте колоду з 52 карт чотирьом гравцям (кожному по 13 карт) так, щоб кожен з них мав від 2 до 5 карт кожної масті. Наприклад, {♣5, ♣10, ♣8, ♣4, ♠4, ♠J, ♠3, ♢Q, ♣7, ♢K, ♡9, ♡1, ♡5}."
   ]
  },
  {
   "cell_type": "code",
   "execution_count": 36,
   "metadata": {
    "collapsed": true
   },
   "outputs": [],
   "source": [
    "# Місце для Вашого коду\n",
    "\n"
   ]
  }
 ],
 "metadata": {
  "kernelspec": {
   "display_name": "Python 3",
   "language": "python",
   "name": "python3"
  },
  "language_info": {
   "codemirror_mode": {
    "name": "ipython",
    "version": 3
   },
   "file_extension": ".py",
   "mimetype": "text/x-python",
   "name": "python",
   "nbconvert_exporter": "python",
   "pygments_lexer": "ipython3",
   "version": "3.7.4"
  }
 },
 "nbformat": 4,
 "nbformat_minor": 1
}
